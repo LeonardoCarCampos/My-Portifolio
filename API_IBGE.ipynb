{
  "nbformat": 4,
  "nbformat_minor": 0,
  "metadata": {
    "colab": {
      "provenance": []
    },
    "kernelspec": {
      "name": "python3",
      "display_name": "Python 3"
    },
    "language_info": {
      "name": "python"
    }
  },
  "cells": [
    {
      "cell_type": "code",
      "execution_count": null,
      "metadata": {
        "id": "snu204sT0qZN"
      },
      "outputs": [],
      "source": []
    },
    {
      "cell_type": "markdown",
      "source": [
        "**API IBGE - Insumos industriais elaborados**"
      ],
      "metadata": {
        "id": "zWGTGPAz7sDg"
      }
    },
    {
      "cell_type": "code",
      "source": [
        "!pip install requests"
      ],
      "metadata": {
        "colab": {
          "base_uri": "https://localhost:8080/"
        },
        "id": "0fL0zAqyCG4q",
        "outputId": "f1edc332-d0d1-4b86-ea7d-e0d8fda81e17"
      },
      "execution_count": null,
      "outputs": [
        {
          "output_type": "stream",
          "name": "stdout",
          "text": [
            "Requirement already satisfied: requests in /usr/local/lib/python3.10/dist-packages (2.32.3)\n",
            "Requirement already satisfied: charset-normalizer<4,>=2 in /usr/local/lib/python3.10/dist-packages (from requests) (3.4.0)\n",
            "Requirement already satisfied: idna<4,>=2.5 in /usr/local/lib/python3.10/dist-packages (from requests) (3.10)\n",
            "Requirement already satisfied: urllib3<3,>=1.21.1 in /usr/local/lib/python3.10/dist-packages (from requests) (2.2.3)\n",
            "Requirement already satisfied: certifi>=2017.4.17 in /usr/local/lib/python3.10/dist-packages (from requests) (2024.8.30)\n"
          ]
        }
      ]
    },
    {
      "cell_type": "code",
      "source": [
        "import requests\n",
        "\n",
        "link = \"https://servicodados.ibge.gov.br/api/v3/agregados/3651/periodos/200208|200308|200401/variaveis/3136?localidades=N1[all]&classificacao=543[129291]\"\n",
        "\n",
        "requisicao = requests.get(link)\n",
        "informacoes = requisicao.json()\n",
        "\n",
        "\n",
        "# import pprint\n",
        "\n",
        "# pprint.pprint(informacoes[0]['resultados'][0]['series'])\n",
        "\n",
        "item_busca = informacoes[0]['variavel'] # variavel\n",
        "resultados = informacoes[0]['resultados'][0]['series'] # series"
      ],
      "metadata": {
        "id": "tEWjfePS72U_"
      },
      "execution_count": null,
      "outputs": []
    },
    {
      "cell_type": "code",
      "source": [
        "print(item_busca)\n",
        "print(resultados)"
      ],
      "metadata": {
        "colab": {
          "base_uri": "https://localhost:8080/"
        },
        "id": "uh_1vmXfDeou",
        "outputId": "d8272355-69b0-4933-84be-c1ed7755bad0"
      },
      "execution_count": null,
      "outputs": [
        {
          "output_type": "stream",
          "name": "stdout",
          "text": [
            "Índice mensal (Base: igual mês do ano anterior = 100)\n",
            "[{'localidade': {'id': '1', 'nivel': {'id': 'N1', 'nome': 'Brasil'}, 'nome': 'Brasil'}, 'serie': {'200208': '...', '200308': '97.5', '200401': '101.6'}}]\n"
          ]
        }
      ]
    },
    {
      "source": [
        "import requests\n",
        "import pandas as pd\n",
        "\n",
        "# **API IBGE - Insumos industriais elaborados**\n",
        "link = \"https://servicodados.ibge.gov.br/api/v3/agregados/3651/periodos/200208|200308|200401/variaveis/3136?localidades=N1[all]&classificacao=543[129291]\"\n",
        "\n",
        "# Fazendo a requisição e carregando o JSON\n",
        "requisicao = requests.get(link)\n",
        "informacoes = requisicao.json()\n",
        "\n",
        "# Acessando a variável e a série de dados\n",
        "item_busca = informacoes[0]['variavel']\n",
        "resultados = informacoes[0]['resultados'][0]['series']\n",
        "\n",
        "# Processando os dados em uma lista de dicionários\n",
        "data = []\n",
        "for serie in resultados:\n",
        "    local = serie['localidade']['nome']\n",
        "    for periodo, valor in serie['serie'].items():\n",
        "        # Verifica se o valor é numérico antes de converter\n",
        "        try:\n",
        "            valor_float = float(valor)\n",
        "        except (ValueError, TypeError):\n",
        "            valor_float = None  # Define como None se não puder converter\n",
        "        data.append({'Local': local, 'Periodo': periodo, 'Valor': valor_float})\n",
        "\n",
        "# Criando um DataFrame a partir da lista de dicionários\n",
        "df = pd.DataFrame(data)\n",
        "\n",
        "# Exibindo o DataFrame\n",
        "print(df)\n",
        "\n",
        "# Exemplo de manipulação: Calculando a média por local (ignorando valores nulos)\n",
        "average_values = df.groupby('Local')['Valor'].mean()\n",
        "print(\"\\nValores Médios por Local:\")\n",
        "print(average_values)\n"
      ],
      "cell_type": "code",
      "metadata": {
        "colab": {
          "base_uri": "https://localhost:8080/"
        },
        "id": "I4unbPBVcc3f",
        "outputId": "956b91f4-023e-4643-9c9b-bfb5befe7674"
      },
      "execution_count": null,
      "outputs": [
        {
          "output_type": "stream",
          "name": "stdout",
          "text": [
            "    Local Periodo  Valor\n",
            "0  Brasil  200208    NaN\n",
            "1  Brasil  200308   97.5\n",
            "2  Brasil  200401  101.6\n",
            "\n",
            "Valores Médios por Local:\n",
            "Local\n",
            "Brasil    99.55\n",
            "Name: Valor, dtype: float64\n"
          ]
        }
      ]
    },
    {
      "cell_type": "code",
      "source": [],
      "metadata": {
        "id": "_bjaIqphcVcl"
      },
      "execution_count": null,
      "outputs": []
    }
  ]
}